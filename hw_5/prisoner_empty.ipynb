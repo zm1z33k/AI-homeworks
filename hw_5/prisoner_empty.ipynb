{
 "cells": [
  {
   "cell_type": "markdown",
   "id": "5af898a6",
   "metadata": {},
   "source": [
    "# Iterované vězňovo dilema"
   ]
  },
  {
   "cell_type": "code",
   "execution_count": null,
   "id": "d1423680",
   "metadata": {},
   "outputs": [],
   "source": [
    "import random\n",
    "\n",
    "import numpy as np\n",
    "\n",
    "from deap import base, creator, tools, algorithms"
   ]
  },
  {
   "cell_type": "markdown",
   "id": "dda646cc",
   "metadata": {},
   "source": [
    "## Strategie odpovědí\n",
    "obecně jde o funkci tvaru *zrada(moje_historie_tahu, druheho_historie_tahu)* pro seznam minulých rozhodnutí vrátí, zda protihráče v následujícím tahu zradíme (1) nebo ne (0)\n",
    "\n",
    "- první parametr je seznam historie našich tahů\n",
    "- druhý parametr je seznam historie tahů protihráče\n"
   ]
  },
  {
   "cell_type": "code",
   "execution_count": null,
   "id": "4566517c",
   "metadata": {},
   "outputs": [],
   "source": [
    "\n",
    "# vždy kooperuje\n",
    "def always_cooperate(myhistory, otherhistory):\n",
    "    return 0\n",
    "\n",
    "\n",
    "# náhodná odpověď\n",
    "def random_answer(myhistory, otherhistory):\n",
    "    p = random.random()\n",
    "    if p < 0.5:\n",
    "        return 1\n",
    "    \n",
    "    return 0\n",
    "    \n",
    "    \n",
    "\n"
   ]
  },
  {
   "cell_type": "markdown",
   "id": "48d455ca",
   "metadata": {},
   "source": [
    "## Pomocné funkce"
   ]
  },
  {
   "cell_type": "code",
   "execution_count": null,
   "id": "5c4a4918",
   "metadata": {},
   "outputs": [],
   "source": [
    "def rozdej_skore(tah1, tah2):\n",
    "    # 1 = zradi, 0 = nezradi\n",
    "    \n",
    "    skores = (0, 0)\n",
    "    \n",
    "    if (tah1 == 1) and (tah2 == 1):\n",
    "        skores = (2, 2)\n",
    "\n",
    "    if (tah1 == 1) and (tah2 == 0):\n",
    "        skores = (0, 3)    \n",
    "    \n",
    "    if (tah1 == 0) and (tah2 == 1):\n",
    "        skores = (3, 0)\n",
    "        \n",
    "    if (tah1 == 0) and (tah2 == 0):\n",
    "        skores = (1, 1)\n",
    "                \n",
    "    return skores    \n",
    "        \n",
    "        \n",
    "def play(f1, f2, stepsnum):\n",
    "    \n",
    "    skore1 = 0\n",
    "    skore2 = 0\n",
    "    \n",
    "    historie1 = []\n",
    "    historie2 = []\n",
    "    \n",
    "    for i in range(stepsnum):\n",
    "        tah1 = f1(historie1, historie2)\n",
    "        tah2 = f2(historie2, historie1)\n",
    "\n",
    "        s1, s2 = rozdej_skore(tah1, tah2)\n",
    "        skore1 += s1\n",
    "        skore2 += s2\n",
    "        \n",
    "        historie1.append(tah1)\n",
    "        historie2.append(tah2)\n",
    "       \n",
    "    return skore1, skore2\n",
    "\n"
   ]
  },
  {
   "cell_type": "code",
   "execution_count": null,
   "id": "23cef0d9",
   "metadata": {},
   "outputs": [],
   "source": []
  },
  {
   "cell_type": "markdown",
   "id": "45d3cdc5",
   "metadata": {},
   "source": [
    "## Evoluce strategie"
   ]
  },
  {
   "cell_type": "code",
   "execution_count": null,
   "id": "08634c6c",
   "metadata": {
    "scrolled": true
   },
   "outputs": [],
   "source": [
    "# místo pro vlastní evoluci strategie"
   ]
  },
  {
   "cell_type": "code",
   "execution_count": null,
   "id": "d82c971b",
   "metadata": {},
   "outputs": [],
   "source": []
  },
  {
   "cell_type": "markdown",
   "id": "64dad94d",
   "metadata": {},
   "source": [
    "## Moje funkce"
   ]
  },
  {
   "cell_type": "code",
   "execution_count": null,
   "id": "8a10d0b3",
   "metadata": {},
   "outputs": [],
   "source": [
    "# vlastní funkce zrada(moje_historie_tahu, druheho_historie_tahu)\n",
    "# zadrátovaná dle "
   ]
  },
  {
   "cell_type": "code",
   "execution_count": null,
   "id": "86783d39",
   "metadata": {},
   "outputs": [],
   "source": []
  },
  {
   "cell_type": "markdown",
   "id": "b0198075",
   "metadata": {},
   "source": [
    "## Turnaj"
   ]
  },
  {
   "cell_type": "code",
   "execution_count": null,
   "id": "48b45c4c",
   "metadata": {},
   "outputs": [],
   "source": [
    "\n",
    "        \n",
    "# seznam funkci o testování\n",
    "ucastnici = [always_cooperate, random_answer]\n",
    "\n",
    "# funkce se mohou v seznamu i opakovat \n",
    "#ucastnici = [always_cooperate, always_cooperate, random_answer, random_answer, random_answer]\n",
    "\n",
    "\n",
    "\n",
    "STEPSNUM = 20\n",
    "\n",
    "\n",
    "l = len(ucastnici)\n",
    "skores = [0 for i in range(l)]\n",
    "\n",
    "print(\"=========================================\")\n",
    "print(\"Turnaj\")\n",
    "print(\"hra délky:\", STEPSNUM)\n",
    "print(\"-----------------------------------------\")\n",
    "\n",
    "\n",
    "for i in range(l):\n",
    "    for j in range(i+1, l):\n",
    "        f1 = ucastnici[i]\n",
    "        f2 = ucastnici[j]\n",
    "        skore1, skore2 = play(f1, f2, STEPSNUM)\n",
    "        print(f1.__name__, \"x\", f2.__name__, \" \", skore1, \":\", skore2)\n",
    "        skores[i] += skore1\n",
    "        skores[j] += skore2\n",
    "        \n",
    "\n",
    "print(\"=========================================\")\n",
    "print(\"= Výsledné pořadí\")\n",
    "print(\"-----------------------------------------\")\n",
    "\n",
    "\n",
    "# setrideni indexu vysledku\n",
    "index = sorted(range(l), key=lambda k: skores[k])\n",
    "\n",
    "poradi = 1\n",
    "for i in index:\n",
    "    f = ucastnici[i]\n",
    "    print(poradi, \".\", f.__name__, \":\", skores[i])\n",
    "    poradi += 1\n",
    "        \n",
    "        "
   ]
  },
  {
   "cell_type": "code",
   "execution_count": null,
   "id": "a0834931",
   "metadata": {},
   "outputs": [],
   "source": []
  },
  {
   "cell_type": "code",
   "execution_count": null,
   "id": "07fc27cb",
   "metadata": {},
   "outputs": [],
   "source": []
  }
 ],
 "metadata": {
  "kernelspec": {
   "display_name": "Python 3 (ipykernel)",
   "language": "python",
   "name": "python3"
  },
  "language_info": {
   "codemirror_mode": {
    "name": "ipython",
    "version": 3
   },
   "file_extension": ".py",
   "mimetype": "text/x-python",
   "name": "python",
   "nbconvert_exporter": "python",
   "pygments_lexer": "ipython3",
   "version": "3.9.7"
  }
 },
 "nbformat": 4,
 "nbformat_minor": 5
}
