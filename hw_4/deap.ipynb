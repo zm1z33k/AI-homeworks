{
 "cells": [
  {
   "cell_type": "markdown",
   "id": "3688b7f5",
   "metadata": {},
   "source": [
    "# Úvod do DEAP (Distributed Evolutionary Algorithms in Python)\n",
    "\n",
    "instalace v terminálu pomocí \n",
    "\n",
    "conda install -c conda-forge deap "
   ]
  },
  {
   "cell_type": "code",
   "execution_count": null,
   "id": "7435cc3e",
   "metadata": {},
   "outputs": [],
   "source": [
    "import numpy as np\n",
    "\n",
    "import random\n",
    "\n",
    "from deap import base, creator, tools, algorithms\n",
    "\n"
   ]
  },
  {
   "cell_type": "markdown",
   "id": "b7c6862d",
   "metadata": {},
   "source": [
    "## Vytváření nových typů\n",
    "---"
   ]
  },
  {
   "cell_type": "markdown",
   "id": "3d117fdd",
   "metadata": {},
   "source": [
    "### Fitness\n",
    "params: název, objekt fitness, -1.0 minimalizace / 1.0 maximalizace"
   ]
  },
  {
   "cell_type": "code",
   "execution_count": null,
   "id": "138f24db",
   "metadata": {},
   "outputs": [],
   "source": [
    "creator.create(\"FitnessMax\", base.Fitness, weights=(1.0,))"
   ]
  },
  {
   "cell_type": "code",
   "execution_count": null,
   "id": "bed3f881",
   "metadata": {},
   "outputs": [],
   "source": []
  },
  {
   "cell_type": "markdown",
   "id": "24ae1ad0",
   "metadata": {},
   "source": [
    "### Individua\n",
    "params: název, třída datové struktury, fitness dle existující zaregistrované\n",
    "\n",
    "budeme pracovat s listy (jde i numpy pole ale pozor na views!)\n",
    "\n",
    "existuje celá řada typů: permutace, stromy, atd."
   ]
  },
  {
   "cell_type": "code",
   "execution_count": null,
   "id": "d8842e77",
   "metadata": {},
   "outputs": [],
   "source": [
    "creator.create(\"Individual\", list, fitness=creator.FitnessMax)"
   ]
  },
  {
   "cell_type": "code",
   "execution_count": null,
   "id": "686fc667",
   "metadata": {},
   "outputs": [],
   "source": []
  },
  {
   "cell_type": "code",
   "execution_count": null,
   "id": "64ea366f",
   "metadata": {},
   "outputs": [],
   "source": [
    "toolbox = base.Toolbox()\n",
    "\n",
    "toolbox.register(\"attr_float\", random.randint, 0, 1)\n",
    "toolbox.register(\"individual\", tools.initRepeat, creator.Individual,\n",
    "                 toolbox.attr_float, n=IND_SIZE)\n",
    "#toolbox.register(\"individual\", initind, IND_LEN)  # název, funkce, poporade parametry krmici funkci"
   ]
  },
  {
   "cell_type": "code",
   "execution_count": null,
   "id": "fa9c820b",
   "metadata": {},
   "outputs": [],
   "source": [
    "ind1 = toolbox.individual()\n",
    "print(ind1)\n",
    "ind1[1]"
   ]
  },
  {
   "cell_type": "code",
   "execution_count": null,
   "id": "2e4949f0",
   "metadata": {},
   "outputs": [],
   "source": [
    "ind1.fitness.values\n"
   ]
  },
  {
   "cell_type": "code",
   "execution_count": null,
   "id": "dfb876a5",
   "metadata": {},
   "outputs": [],
   "source": []
  },
  {
   "cell_type": "markdown",
   "id": "c9bf361e",
   "metadata": {},
   "source": [
    "### Populace"
   ]
  },
  {
   "cell_type": "code",
   "execution_count": null,
   "id": "5957077d",
   "metadata": {},
   "outputs": [],
   "source": [
    "toolbox.register(\"population\", tools.initRepeat, list, toolbox.individual) \n",
    "# init repeat opakuje dle parametru za ni, tedy dela list individui dle zakladni inicializace individua\n"
   ]
  },
  {
   "cell_type": "code",
   "execution_count": null,
   "id": "e24fedea",
   "metadata": {},
   "outputs": [],
   "source": [
    "pop = toolbox.population(n=10)\n",
    "print(pop)"
   ]
  },
  {
   "cell_type": "markdown",
   "id": "8c7b30d2",
   "metadata": {},
   "source": [
    "## Fitness\n",
    "---\n",
    "Tuto funkci si musíme napsat sami !!!"
   ]
  },
  {
   "cell_type": "code",
   "execution_count": null,
   "id": "ad32ee6b",
   "metadata": {},
   "outputs": [],
   "source": [
    "def evaluate(individual):\n",
    "    return sum(individual),    # !!!! vracíme n-tici, proto ta čárka"
   ]
  },
  {
   "cell_type": "code",
   "execution_count": null,
   "id": "3de71ee3",
   "metadata": {},
   "outputs": [],
   "source": [
    "toolbox.register(\"evaluate\", evaluate)"
   ]
  },
  {
   "cell_type": "markdown",
   "id": "80981009",
   "metadata": {},
   "source": [
    "## Operátory\n",
    "---\n",
    "\n",
    "sada operátorů lze nalézt v [dokumentaci](https://deap.readthedocs.io/en/master/api/tools.html#module-deap.tools)"
   ]
  },
  {
   "cell_type": "code",
   "execution_count": null,
   "id": "74baac08",
   "metadata": {},
   "outputs": [],
   "source": [
    "toolbox.register(\"mate\", tools.cxOnePoint)\n",
    "toolbox.register(\"mutate\", tools.mutUniformInt, low=0, up=1, indpb=0.05)\n",
    "toolbox.register(\"select\", tools.selTournament, tournsize=3)"
   ]
  },
  {
   "cell_type": "code",
   "execution_count": null,
   "id": "d0522e20",
   "metadata": {},
   "outputs": [],
   "source": []
  },
  {
   "cell_type": "markdown",
   "id": "b0e065fa",
   "metadata": {},
   "source": [
    "## Jednoduchý algoritmus\n",
    "---"
   ]
  },
  {
   "cell_type": "code",
   "execution_count": null,
   "id": "1b6f4e11",
   "metadata": {},
   "outputs": [],
   "source": [
    "# hlavní parametry vystrčené kvůli experimentování\n",
    "\n",
    "NGEN = 50            # počet generací\n",
    "CXPB = 0.7           # pravděpodobnost crossoveru na páru\n",
    "MUTPB = 0.2         # pravděpodobnost mutace jedince\n",
    "\n",
    "finalpop, logbook = algorithms.eaSimple(pop, toolbox, cxpb=CXPB, mutpb=MUTPB, ngen=NGEN)\n"
   ]
  },
  {
   "cell_type": "markdown",
   "id": "7f8f5d12",
   "metadata": {},
   "source": [
    "## Statistika\n",
    "---"
   ]
  },
  {
   "cell_type": "code",
   "execution_count": null,
   "id": "9caf68b2",
   "metadata": {
    "scrolled": true
   },
   "outputs": [],
   "source": [
    "import numpy as np\n",
    "\n",
    "s = tools.Statistics(key=lambda ind: ind.fitness.values)\n",
    "s.register(\"mean\", np.mean)\n",
    "s.register(\"max\", np.max)\n",
    "\n",
    "\n",
    "hof = tools.HallOfFame(1)  # pamatuje si 1 nejlepšího jedince za historii evoluce (i když zanikne)\n",
    "\n",
    "pop = toolbox.population(n=10)\n",
    "\n",
    "\n",
    "finalpop, logbook = algorithms.eaSimple(pop, toolbox, cxpb=CXPB, mutpb=MUTPB, ngen=NGEN, stats=s, halloffame=hof)"
   ]
  },
  {
   "cell_type": "code",
   "execution_count": null,
   "id": "6a88410c",
   "metadata": {},
   "outputs": [],
   "source": [
    "mean, maximum = logbook.select(\"mean\", \"max\")\n",
    "\n",
    "\n",
    "print(hof)"
   ]
  },
  {
   "cell_type": "markdown",
   "id": "9a56dd8d",
   "metadata": {},
   "source": [
    "## Kreslení statistiky\n",
    "---"
   ]
  },
  {
   "cell_type": "code",
   "execution_count": null,
   "id": "de992307",
   "metadata": {},
   "outputs": [],
   "source": [
    "import matplotlib.pyplot as plt\n",
    "\n",
    "fig, ax = plt.subplots()\n",
    "\n",
    "ax.plot(range(NGEN+1), mean, label=\"mean\")     # 0.tá generace zvlášť\n",
    "ax.plot(range(NGEN+1), maximum, label=\"max\")\n",
    "\n",
    "ax.legend()"
   ]
  },
  {
   "cell_type": "markdown",
   "id": "53728750",
   "metadata": {},
   "source": [
    "## Aplikace na barvení grafu\n",
    "---"
   ]
  },
  {
   "cell_type": "markdown",
   "id": "ca111384",
   "metadata": {},
   "source": [
    "### Načtení dat"
   ]
  },
  {
   "cell_type": "code",
   "execution_count": null,
   "id": "f67e7f17",
   "metadata": {},
   "outputs": [],
   "source": [
    "import numpy as np\n",
    "import networkx as nx\n",
    "\n",
    "\n",
    "\n",
    "# funkce pro nacitani grafu z Dimacs formatu\n",
    "def readdimacs(filename):\n",
    "\n",
    "    file = open(filename, 'r')\n",
    "    lines = file.readlines()\n",
    "    \n",
    "    Gd = nx.Graph()\n",
    "\n",
    "    for line in lines:\n",
    "        if line[0] == \"e\":\n",
    "            vs = [int(s) for s in line.split() if s.isdigit()]\n",
    "            Gd.add_edge(vs[0]-1, vs[1]-1)   # dimacs cisluje vrcholy od 1\n",
    "    return Gd\n",
    "\n",
    "Gd = nx.Graph()\n",
    "Gd = readdimacs('dsjc125.1.txt') \n",
    "\n",
    "\n"
   ]
  },
  {
   "cell_type": "markdown",
   "id": "18eefe7f",
   "metadata": {},
   "source": [
    "### Definice GA"
   ]
  },
  {
   "cell_type": "code",
   "execution_count": null,
   "id": "4aba30a1",
   "metadata": {},
   "outputs": [],
   "source": [
    "\n",
    "COLNUM = 10 # počet barev\n",
    "\n",
    "N = Gd.number_of_nodes()\n",
    "\n",
    "creator.create(\"FitnessMax\", base.Fitness, weights=(-1.0,))  # minimalizujeme počet kolizí\n",
    "\n",
    "creator.create(\"Individual\", list, fitness=creator.FitnessMax)\n",
    "\n",
    "\n",
    "toolbox = base.Toolbox()\n",
    "\n",
    "toolbox.register(\"attr_float\", random.randint, 0, COLNUM)\n",
    "toolbox.register(\"individual\", tools.initRepeat, creator.Individual,\n",
    "                 toolbox.attr_float, n=N)\n",
    "\n",
    "\n",
    "toolbox.register(\"population\", tools.initRepeat, list, toolbox.individual) \n",
    "\n",
    "\n",
    "# vrací celkový počet kolizí\n",
    "def evaluate(individual):\n",
    "    \n",
    "    collisions = 0\n",
    "    \n",
    "    for i in range(N-1):\n",
    "        for j in range(i, N):\n",
    "            if Gd.has_edge(i, j):\n",
    "                if individual[i] == individual[j]:\n",
    "                    collisions += 1\n",
    "    return collisions, # !!!! vracíme n-tici, proto ta čárka\n",
    "   \n",
    "\n",
    "toolbox.register(\"evaluate\", evaluate)\n",
    "\n",
    "\n",
    "toolbox.register(\"mate\", tools.cxOnePoint)\n",
    "toolbox.register(\"mutate\", tools.mutUniformInt, low=0, up=COLNUM, indpb=0.01)\n",
    "toolbox.register(\"select\", tools.selTournament, tournsize=2)\n",
    "\n",
    "\n",
    "\n",
    "NGEN = 150          # počet generací\n",
    "CXPB = 0.5           # pravděpodobnost crossoveru na páru\n",
    "MUTPB = 0.7         # pravděpodobnost mutace\n",
    "\n",
    "\n",
    "\n",
    "s = tools.Statistics(key=lambda ind: ind.fitness.values)\n",
    "s.register(\"mean\", np.mean)\n",
    "s.register(\"min\", np.min)\n",
    "\n",
    "pop = toolbox.population(n=100)\n",
    "\n",
    "\n",
    "finalpop, logbook = algorithms.eaSimple(pop, toolbox, cxpb=CXPB, mutpb=MUTPB, ngen=NGEN, stats=s)"
   ]
  },
  {
   "cell_type": "markdown",
   "id": "cdad642c",
   "metadata": {},
   "source": [
    "### Vykreslení fitness"
   ]
  },
  {
   "cell_type": "code",
   "execution_count": null,
   "id": "1b6a8470",
   "metadata": {},
   "outputs": [],
   "source": [
    "mean, minimum = logbook.select(\"mean\", \"min\")\n",
    "\n",
    "fig, ax = plt.subplots()\n",
    "\n",
    "ax.plot(range(NGEN+1), mean, label=\"mean\")     # 0.tá generace zvlášť\n",
    "ax.plot(range(NGEN+1), minimum, label=\"min\")\n",
    "ax.legend()"
   ]
  },
  {
   "cell_type": "code",
   "execution_count": null,
   "id": "f3d14b09",
   "metadata": {},
   "outputs": [],
   "source": []
  },
  {
   "cell_type": "code",
   "execution_count": null,
   "id": "d59ea4b3",
   "metadata": {},
   "outputs": [],
   "source": []
  },
  {
   "cell_type": "code",
   "execution_count": null,
   "id": "1d74138e",
   "metadata": {},
   "outputs": [],
   "source": []
  },
  {
   "cell_type": "code",
   "execution_count": null,
   "id": "d7f79c79",
   "metadata": {},
   "outputs": [],
   "source": []
  }
 ],
 "metadata": {
  "kernelspec": {
   "display_name": "Python 3 (ipykernel)",
   "language": "python",
   "name": "python3"
  },
  "language_info": {
   "codemirror_mode": {
    "name": "ipython",
    "version": 3
   },
   "file_extension": ".py",
   "mimetype": "text/x-python",
   "name": "python",
   "nbconvert_exporter": "python",
   "pygments_lexer": "ipython3",
   "version": "3.9.7"
  }
 },
 "nbformat": 4,
 "nbformat_minor": 5
}
